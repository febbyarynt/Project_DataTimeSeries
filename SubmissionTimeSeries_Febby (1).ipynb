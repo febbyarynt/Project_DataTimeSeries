{
  "nbformat": 4,
  "nbformat_minor": 0,
  "metadata": {
    "colab": {
      "provenance": []
    },
    "kernelspec": {
      "name": "python3",
      "display_name": "Python 3"
    },
    "language_info": {
      "name": "python"
    }
  },
  "cells": [
    {
      "cell_type": "markdown",
      "source": [
        "## Data Diri\n",
        "* Nama : Febby Ariyanti Herdiana\n",
        "* Grup : M06"
      ],
      "metadata": {
        "id": "tFSdT8SSKkm4"
      }
    },
    {
      "cell_type": "code",
      "execution_count": null,
      "metadata": {
        "id": "pnjsJdyeVC5f"
      },
      "outputs": [],
      "source": [
        "import numpy as np\n",
        "import pandas as pd\n",
        "from keras.layers import Dense, LSTM, Bidirectional, Dropout \n",
        "import matplotlib.pyplot as plt\n",
        "import tensorflow as tf"
      ]
    },
    {
      "cell_type": "code",
      "source": [
        "from sklearn.model_selection import train_test_split\n",
        "import sklearn.preprocessing\n",
        "import sklearn.preprocessing\n",
        "from keras.models import Sequential\n",
        "from sklearn.metrics import r2_score"
      ],
      "metadata": {
        "id": "Z2S3XfqZjAr5"
      },
      "execution_count": null,
      "outputs": []
    },
    {
      "cell_type": "code",
      "source": [
        "data_train = pd.read_csv('/content/goldtimeseries.zip')\n",
        "data_train"
      ],
      "metadata": {
        "colab": {
          "base_uri": "https://localhost:8080/",
          "height": 424
        },
        "id": "gAuLPGATW3gP",
        "outputId": "56dc3663-4552-4253-8bcd-41ea1b484c61"
      },
      "execution_count": null,
      "outputs": [
        {
          "output_type": "execute_result",
          "data": {
            "text/plain": [
              "             Date    Value\n",
              "0      1970-01-01    35.20\n",
              "1      1970-04-01    35.10\n",
              "2      1970-07-01    35.40\n",
              "3      1970-10-01    36.20\n",
              "4      1971-01-01    37.40\n",
              "...           ...      ...\n",
              "10782  2020-03-09  1672.50\n",
              "10783  2020-03-10  1655.70\n",
              "10784  2020-03-11  1653.75\n",
              "10785  2020-03-12  1570.70\n",
              "10786  2020-03-13  1562.80\n",
              "\n",
              "[10787 rows x 2 columns]"
            ],
            "text/html": [
              "\n",
              "  <div id=\"df-8721f875-2f05-4bd1-98b8-6b0890b1799b\">\n",
              "    <div class=\"colab-df-container\">\n",
              "      <div>\n",
              "<style scoped>\n",
              "    .dataframe tbody tr th:only-of-type {\n",
              "        vertical-align: middle;\n",
              "    }\n",
              "\n",
              "    .dataframe tbody tr th {\n",
              "        vertical-align: top;\n",
              "    }\n",
              "\n",
              "    .dataframe thead th {\n",
              "        text-align: right;\n",
              "    }\n",
              "</style>\n",
              "<table border=\"1\" class=\"dataframe\">\n",
              "  <thead>\n",
              "    <tr style=\"text-align: right;\">\n",
              "      <th></th>\n",
              "      <th>Date</th>\n",
              "      <th>Value</th>\n",
              "    </tr>\n",
              "  </thead>\n",
              "  <tbody>\n",
              "    <tr>\n",
              "      <th>0</th>\n",
              "      <td>1970-01-01</td>\n",
              "      <td>35.20</td>\n",
              "    </tr>\n",
              "    <tr>\n",
              "      <th>1</th>\n",
              "      <td>1970-04-01</td>\n",
              "      <td>35.10</td>\n",
              "    </tr>\n",
              "    <tr>\n",
              "      <th>2</th>\n",
              "      <td>1970-07-01</td>\n",
              "      <td>35.40</td>\n",
              "    </tr>\n",
              "    <tr>\n",
              "      <th>3</th>\n",
              "      <td>1970-10-01</td>\n",
              "      <td>36.20</td>\n",
              "    </tr>\n",
              "    <tr>\n",
              "      <th>4</th>\n",
              "      <td>1971-01-01</td>\n",
              "      <td>37.40</td>\n",
              "    </tr>\n",
              "    <tr>\n",
              "      <th>...</th>\n",
              "      <td>...</td>\n",
              "      <td>...</td>\n",
              "    </tr>\n",
              "    <tr>\n",
              "      <th>10782</th>\n",
              "      <td>2020-03-09</td>\n",
              "      <td>1672.50</td>\n",
              "    </tr>\n",
              "    <tr>\n",
              "      <th>10783</th>\n",
              "      <td>2020-03-10</td>\n",
              "      <td>1655.70</td>\n",
              "    </tr>\n",
              "    <tr>\n",
              "      <th>10784</th>\n",
              "      <td>2020-03-11</td>\n",
              "      <td>1653.75</td>\n",
              "    </tr>\n",
              "    <tr>\n",
              "      <th>10785</th>\n",
              "      <td>2020-03-12</td>\n",
              "      <td>1570.70</td>\n",
              "    </tr>\n",
              "    <tr>\n",
              "      <th>10786</th>\n",
              "      <td>2020-03-13</td>\n",
              "      <td>1562.80</td>\n",
              "    </tr>\n",
              "  </tbody>\n",
              "</table>\n",
              "<p>10787 rows × 2 columns</p>\n",
              "</div>\n",
              "      <button class=\"colab-df-convert\" onclick=\"convertToInteractive('df-8721f875-2f05-4bd1-98b8-6b0890b1799b')\"\n",
              "              title=\"Convert this dataframe to an interactive table.\"\n",
              "              style=\"display:none;\">\n",
              "        \n",
              "  <svg xmlns=\"http://www.w3.org/2000/svg\" height=\"24px\"viewBox=\"0 0 24 24\"\n",
              "       width=\"24px\">\n",
              "    <path d=\"M0 0h24v24H0V0z\" fill=\"none\"/>\n",
              "    <path d=\"M18.56 5.44l.94 2.06.94-2.06 2.06-.94-2.06-.94-.94-2.06-.94 2.06-2.06.94zm-11 1L8.5 8.5l.94-2.06 2.06-.94-2.06-.94L8.5 2.5l-.94 2.06-2.06.94zm10 10l.94 2.06.94-2.06 2.06-.94-2.06-.94-.94-2.06-.94 2.06-2.06.94z\"/><path d=\"M17.41 7.96l-1.37-1.37c-.4-.4-.92-.59-1.43-.59-.52 0-1.04.2-1.43.59L10.3 9.45l-7.72 7.72c-.78.78-.78 2.05 0 2.83L4 21.41c.39.39.9.59 1.41.59.51 0 1.02-.2 1.41-.59l7.78-7.78 2.81-2.81c.8-.78.8-2.07 0-2.86zM5.41 20L4 18.59l7.72-7.72 1.47 1.35L5.41 20z\"/>\n",
              "  </svg>\n",
              "      </button>\n",
              "      \n",
              "  <style>\n",
              "    .colab-df-container {\n",
              "      display:flex;\n",
              "      flex-wrap:wrap;\n",
              "      gap: 12px;\n",
              "    }\n",
              "\n",
              "    .colab-df-convert {\n",
              "      background-color: #E8F0FE;\n",
              "      border: none;\n",
              "      border-radius: 50%;\n",
              "      cursor: pointer;\n",
              "      display: none;\n",
              "      fill: #1967D2;\n",
              "      height: 32px;\n",
              "      padding: 0 0 0 0;\n",
              "      width: 32px;\n",
              "    }\n",
              "\n",
              "    .colab-df-convert:hover {\n",
              "      background-color: #E2EBFA;\n",
              "      box-shadow: 0px 1px 2px rgba(60, 64, 67, 0.3), 0px 1px 3px 1px rgba(60, 64, 67, 0.15);\n",
              "      fill: #174EA6;\n",
              "    }\n",
              "\n",
              "    [theme=dark] .colab-df-convert {\n",
              "      background-color: #3B4455;\n",
              "      fill: #D2E3FC;\n",
              "    }\n",
              "\n",
              "    [theme=dark] .colab-df-convert:hover {\n",
              "      background-color: #434B5C;\n",
              "      box-shadow: 0px 1px 3px 1px rgba(0, 0, 0, 0.15);\n",
              "      filter: drop-shadow(0px 1px 2px rgba(0, 0, 0, 0.3));\n",
              "      fill: #FFFFFF;\n",
              "    }\n",
              "  </style>\n",
              "\n",
              "      <script>\n",
              "        const buttonEl =\n",
              "          document.querySelector('#df-8721f875-2f05-4bd1-98b8-6b0890b1799b button.colab-df-convert');\n",
              "        buttonEl.style.display =\n",
              "          google.colab.kernel.accessAllowed ? 'block' : 'none';\n",
              "\n",
              "        async function convertToInteractive(key) {\n",
              "          const element = document.querySelector('#df-8721f875-2f05-4bd1-98b8-6b0890b1799b');\n",
              "          const dataTable =\n",
              "            await google.colab.kernel.invokeFunction('convertToInteractive',\n",
              "                                                     [key], {});\n",
              "          if (!dataTable) return;\n",
              "\n",
              "          const docLinkHtml = 'Like what you see? Visit the ' +\n",
              "            '<a target=\"_blank\" href=https://colab.research.google.com/notebooks/data_table.ipynb>data table notebook</a>'\n",
              "            + ' to learn more about interactive tables.';\n",
              "          element.innerHTML = '';\n",
              "          dataTable['output_type'] = 'display_data';\n",
              "          await google.colab.output.renderOutput(dataTable, element);\n",
              "          const docLink = document.createElement('div');\n",
              "          docLink.innerHTML = docLinkHtml;\n",
              "          element.appendChild(docLink);\n",
              "        }\n",
              "      </script>\n",
              "    </div>\n",
              "  </div>\n",
              "  "
            ]
          },
          "metadata": {},
          "execution_count": 32
        }
      ]
    },
    {
      "cell_type": "code",
      "source": [
        "data_train.isnull().sum()"
      ],
      "metadata": {
        "colab": {
          "base_uri": "https://localhost:8080/"
        },
        "id": "ApMZA0IpMTV7",
        "outputId": "6b056912-692a-43af-e052-92dcc70303f5"
      },
      "execution_count": null,
      "outputs": [
        {
          "output_type": "execute_result",
          "data": {
            "text/plain": [
              "Date     0\n",
              "Value    0\n",
              "dtype: int64"
            ]
          },
          "metadata": {},
          "execution_count": 55
        }
      ]
    },
    {
      "cell_type": "code",
      "source": [
        "def normalize_data(data_train):\n",
        "    scaler = sklearn.preprocessing.MinMaxScaler()\n",
        "    data_train['Value']=scaler.fit_transform(data_train['Value'].values.reshape(-1,1))\n",
        "    return data_train\n",
        "\n",
        "df_norm = normalize_data(data_train)\n",
        "df_norm.shape"
      ],
      "metadata": {
        "colab": {
          "base_uri": "https://localhost:8080/"
        },
        "id": "Ikxu4tkIiwdW",
        "outputId": "14c9e0b1-2259-4711-9cf3-2fab8ebaf983"
      },
      "execution_count": null,
      "outputs": [
        {
          "output_type": "execute_result",
          "data": {
            "text/plain": [
              "(10787, 2)"
            ]
          },
          "metadata": {},
          "execution_count": 33
        }
      ]
    },
    {
      "cell_type": "code",
      "source": [
        "date = data_train['Date'].values\n",
        "value  = data_train['Value'].values\n",
        " \n",
        " \n",
        "plt.figure(figsize=(15,5))\n",
        "plt.plot(date, value)\n",
        "plt.title('Value Average',\n",
        "          fontsize=20);"
      ],
      "metadata": {
        "colab": {
          "base_uri": "https://localhost:8080/",
          "height": 341
        },
        "id": "-k9AuFMIjXvk",
        "outputId": "a275127d-e709-4ada-9f79-05e5fd3e70b4"
      },
      "execution_count": null,
      "outputs": [
        {
          "output_type": "display_data",
          "data": {
            "text/plain": [
              "<Figure size 1080x360 with 1 Axes>"
            ],
            "image/png": "[encoded data removed]"
          },
          "metadata": {
            "needs_background": "light"
          }
        }
      ]
    },
    {
      "cell_type": "code",
      "source": [
        "x_train, x_valid, y_train, y_valid = train_test_split(value, date, train_size=0.8, test_size=0.2, shuffle=False )"
      ],
      "metadata": {
        "id": "8lOiO8k2kpu7"
      },
      "execution_count": null,
      "outputs": []
    },
    {
      "cell_type": "code",
      "source": [
        "print('Total Data Train : ',len(x_train))\n",
        "print('Total Data Validation : ',len(x_valid))"
      ],
      "metadata": {
        "colab": {
          "base_uri": "https://localhost:8080/"
        },
        "id": "WuR_T2UHklSe",
        "outputId": "c148d48d-0500-4cc8-82e6-4bc60725dc76"
      },
      "execution_count": null,
      "outputs": [
        {
          "output_type": "stream",
          "name": "stdout",
          "text": [
            "Total Data Train :  8629\n",
            "Total Data Validation :  2158\n"
          ]
        }
      ]
    },
    {
      "cell_type": "code",
      "source": [
        "def windowed_dataset(series, window_size, batch_size, shuffle_buffer):\n",
        "    series = tf.expand_dims(series, axis=-1)\n",
        "    ds = tf.data.Dataset.from_tensor_slices(series)\n",
        "    ds = ds.window(window_size + 1, shift=1, drop_remainder=True)\n",
        "    ds = ds.flat_map(lambda w: w.batch(window_size + 1))\n",
        "    ds = ds.shuffle(shuffle_buffer)\n",
        "    ds = ds.map(lambda w: (w[:-1], w[-1:]))\n",
        "    return ds.batch(batch_size).prefetch(1)"
      ],
      "metadata": {
        "id": "diJM9fw5jnU6"
      },
      "execution_count": null,
      "outputs": []
    },
    {
      "cell_type": "code",
      "source": [
        "train_set = windowed_dataset(x_train, window_size=60, batch_size=100, shuffle_buffer=1000)\n",
        "val_set = windowed_dataset(x_valid, window_size=60, batch_size=200, shuffle_buffer=1000)\n",
        "model = tf.keras.models.Sequential([\n",
        "                                    Bidirectional(tf.keras.layers.LSTM(60, return_sequences=True)),\n",
        "                                    Bidirectional(tf.keras.layers.LSTM(60, dropout=0.2)),\n",
        "                                    Dense(16, activation=\"relu\"),\n",
        "                                    Dropout(0.2),\n",
        "                                    Dense(8, activation=\"relu\"),\n",
        "                                    Dense(1),\n",
        "])"
      ],
      "metadata": {
        "id": "ISaOcvrAjyil"
      },
      "execution_count": null,
      "outputs": []
    },
    {
      "cell_type": "code",
      "source": [
        "minMae = (data_train['Value'].max() - data_train['Value'].min()) * 10 / 100 \n",
        "minMae"
      ],
      "metadata": {
        "colab": {
          "base_uri": "https://localhost:8080/"
        },
        "id": "Q4wWlf9Cj2Ip",
        "outputId": "0761f657-e5cf-4698-8e55-96cbc8be1215"
      },
      "execution_count": null,
      "outputs": [
        {
          "output_type": "execute_result",
          "data": {
            "text/plain": [
              "0.1"
            ]
          },
          "metadata": {},
          "execution_count": 46
        }
      ]
    },
    {
      "cell_type": "code",
      "source": [
        "class myCallback(tf.keras.callbacks.Callback):\n",
        "  def on_epoch_end(self, epoch, logs={}):\n",
        "    if(logs.get('mae') < minMae and logs.get('val_mae') < minMae):\n",
        "      print(\"\\MAE dari model < 10% skala data\")\n",
        "      self.model.stop_training = True\n",
        "callbacks = myCallback()"
      ],
      "metadata": {
        "id": "GcKdyjNIj2WK"
      },
      "execution_count": null,
      "outputs": []
    },
    {
      "cell_type": "code",
      "source": [
        "optimizer = tf.keras.optimizers.SGD(lr=1.0000e-04, momentum=0.9)\n",
        "model.compile(loss=tf.keras.losses.Huber(),\n",
        "              optimizer=optimizer,\n",
        "              metrics=[\"mae\"])\n",
        "\n",
        "history = model.fit(train_set,\n",
        "                    epochs=100,\n",
        "                    validation_data=val_set,\n",
        "                    callbacks=[callbacks])"
      ],
      "metadata": {
        "colab": {
          "base_uri": "https://localhost:8080/"
        },
        "id": "D2UUnLK7mLdB",
        "outputId": "d85e91c4-8804-4e31-ba52-dc8a9b91891c"
      },
      "execution_count": null,
      "outputs": [
        {
          "output_type": "stream",
          "name": "stdout",
          "text": [
            "Epoch 1/100\n"
          ]
        },
        {
          "output_type": "stream",
          "name": "stderr",
          "text": [
            "/usr/local/lib/python3.7/dist-packages/keras/optimizer_v2/gradient_descent.py:102: UserWarning: The `lr` argument is deprecated, use `learning_rate` instead.\n",
            "  super(SGD, self).__init__(name, **kwargs)\n"
          ]
        },
        {
          "output_type": "stream",
          "name": "stdout",
          "text": [
            "108/108 [==============================] - 37s 273ms/step - loss: 0.0614 - mae: 0.2855 - val_loss: 0.1564 - val_mae: 0.5532\n",
            "Epoch 2/100\n",
            "108/108 [==============================] - 29s 263ms/step - loss: 0.0385 - mae: 0.1932 - val_loss: 0.1117 - val_mae: 0.4660\n",
            "Epoch 3/100\n",
            "108/108 [==============================] - 27s 251ms/step - loss: 0.0293 - mae: 0.1537 - val_loss: 0.0864 - val_mae: 0.4085\n",
            "Epoch 4/100\n",
            "108/108 [==============================] - 28s 254ms/step - loss: 0.0244 - mae: 0.1515 - val_loss: 0.0707 - val_mae: 0.3683\n",
            "Epoch 5/100\n",
            "108/108 [==============================] - 27s 252ms/step - loss: 0.0222 - mae: 0.1547 - val_loss: 0.0605 - val_mae: 0.3396\n",
            "Epoch 6/100\n",
            "108/108 [==============================] - 27s 251ms/step - loss: 0.0209 - mae: 0.1575 - val_loss: 0.0537 - val_mae: 0.3191\n",
            "Epoch 7/100\n",
            "108/108 [==============================] - 28s 253ms/step - loss: 0.0204 - mae: 0.1600 - val_loss: 0.0492 - val_mae: 0.3049\n",
            "Epoch 8/100\n",
            "108/108 [==============================] - 27s 252ms/step - loss: 0.0202 - mae: 0.1615 - val_loss: 0.0460 - val_mae: 0.2943\n",
            "Epoch 9/100\n",
            "108/108 [==============================] - 28s 257ms/step - loss: 0.0198 - mae: 0.1627 - val_loss: 0.0437 - val_mae: 0.2867\n",
            "Epoch 10/100\n",
            "108/108 [==============================] - 28s 254ms/step - loss: 0.0193 - mae: 0.1612 - val_loss: 0.0417 - val_mae: 0.2799\n",
            "Epoch 11/100\n",
            "108/108 [==============================] - 29s 265ms/step - loss: 0.0192 - mae: 0.1618 - val_loss: 0.0403 - val_mae: 0.2749\n",
            "Epoch 12/100\n",
            "108/108 [==============================] - 28s 255ms/step - loss: 0.0185 - mae: 0.1599 - val_loss: 0.0390 - val_mae: 0.2702\n",
            "Epoch 13/100\n",
            "108/108 [==============================] - 28s 255ms/step - loss: 0.0186 - mae: 0.1599 - val_loss: 0.0379 - val_mae: 0.2664\n",
            "Epoch 14/100\n",
            "108/108 [==============================] - 28s 256ms/step - loss: 0.0181 - mae: 0.1578 - val_loss: 0.0369 - val_mae: 0.2628\n",
            "Epoch 15/100\n",
            "108/108 [==============================] - 28s 257ms/step - loss: 0.0179 - mae: 0.1568 - val_loss: 0.0360 - val_mae: 0.2593\n",
            "Epoch 16/100\n",
            "108/108 [==============================] - 28s 256ms/step - loss: 0.0173 - mae: 0.1547 - val_loss: 0.0350 - val_mae: 0.2559\n",
            "Epoch 17/100\n",
            "108/108 [==============================] - 28s 255ms/step - loss: 0.0170 - mae: 0.1533 - val_loss: 0.0341 - val_mae: 0.2525\n",
            "Epoch 18/100\n",
            "108/108 [==============================] - 28s 255ms/step - loss: 0.0167 - mae: 0.1519 - val_loss: 0.0332 - val_mae: 0.2491\n",
            "Epoch 19/100\n",
            "108/108 [==============================] - 28s 256ms/step - loss: 0.0163 - mae: 0.1496 - val_loss: 0.0324 - val_mae: 0.2458\n",
            "Epoch 20/100\n",
            "108/108 [==============================] - 28s 257ms/step - loss: 0.0159 - mae: 0.1475 - val_loss: 0.0316 - val_mae: 0.2427\n",
            "Epoch 21/100\n",
            "108/108 [==============================] - 28s 259ms/step - loss: 0.0155 - mae: 0.1460 - val_loss: 0.0307 - val_mae: 0.2392\n",
            "Epoch 22/100\n",
            "108/108 [==============================] - 28s 257ms/step - loss: 0.0153 - mae: 0.1444 - val_loss: 0.0299 - val_mae: 0.2360\n",
            "Epoch 23/100\n",
            "108/108 [==============================] - 28s 257ms/step - loss: 0.0148 - mae: 0.1423 - val_loss: 0.0291 - val_mae: 0.2329\n",
            "Epoch 24/100\n",
            "108/108 [==============================] - 28s 257ms/step - loss: 0.0143 - mae: 0.1394 - val_loss: 0.0282 - val_mae: 0.2292\n",
            "Epoch 25/100\n",
            "108/108 [==============================] - 28s 257ms/step - loss: 0.0140 - mae: 0.1379 - val_loss: 0.0274 - val_mae: 0.2259\n",
            "Epoch 26/100\n",
            "108/108 [==============================] - 28s 255ms/step - loss: 0.0139 - mae: 0.1369 - val_loss: 0.0266 - val_mae: 0.2225\n",
            "Epoch 27/100\n",
            "108/108 [==============================] - 28s 256ms/step - loss: 0.0135 - mae: 0.1349 - val_loss: 0.0258 - val_mae: 0.2191\n",
            "Epoch 28/100\n",
            "108/108 [==============================] - 28s 255ms/step - loss: 0.0129 - mae: 0.1322 - val_loss: 0.0251 - val_mae: 0.2156\n",
            "Epoch 29/100\n",
            "108/108 [==============================] - 28s 253ms/step - loss: 0.0126 - mae: 0.1300 - val_loss: 0.0242 - val_mae: 0.2117\n",
            "Epoch 30/100\n",
            "108/108 [==============================] - 28s 255ms/step - loss: 0.0125 - mae: 0.1293 - val_loss: 0.0235 - val_mae: 0.2086\n",
            "Epoch 31/100\n",
            "108/108 [==============================] - 28s 254ms/step - loss: 0.0119 - mae: 0.1259 - val_loss: 0.0227 - val_mae: 0.2049\n",
            "Epoch 32/100\n",
            "108/108 [==============================] - 27s 252ms/step - loss: 0.0117 - mae: 0.1244 - val_loss: 0.0219 - val_mae: 0.2013\n",
            "Epoch 33/100\n",
            "108/108 [==============================] - 28s 253ms/step - loss: 0.0115 - mae: 0.1229 - val_loss: 0.0211 - val_mae: 0.1976\n",
            "Epoch 34/100\n",
            "108/108 [==============================] - 28s 253ms/step - loss: 0.0109 - mae: 0.1195 - val_loss: 0.0204 - val_mae: 0.1940\n",
            "Epoch 35/100\n",
            "108/108 [==============================] - 28s 253ms/step - loss: 0.0110 - mae: 0.1187 - val_loss: 0.0196 - val_mae: 0.1901\n",
            "Epoch 36/100\n",
            "108/108 [==============================] - 27s 252ms/step - loss: 0.0104 - mae: 0.1162 - val_loss: 0.0188 - val_mae: 0.1861\n",
            "Epoch 37/100\n",
            "108/108 [==============================] - 27s 251ms/step - loss: 0.0103 - mae: 0.1144 - val_loss: 0.0181 - val_mae: 0.1823\n",
            "Epoch 38/100\n",
            "108/108 [==============================] - 28s 255ms/step - loss: 0.0096 - mae: 0.1110 - val_loss: 0.0174 - val_mae: 0.1787\n",
            "Epoch 39/100\n",
            "108/108 [==============================] - 27s 252ms/step - loss: 0.0095 - mae: 0.1095 - val_loss: 0.0167 - val_mae: 0.1748\n",
            "Epoch 40/100\n",
            "108/108 [==============================] - 27s 252ms/step - loss: 0.0092 - mae: 0.1072 - val_loss: 0.0159 - val_mae: 0.1708\n",
            "Epoch 41/100\n",
            "108/108 [==============================] - 28s 255ms/step - loss: 0.0088 - mae: 0.1043 - val_loss: 0.0153 - val_mae: 0.1669\n",
            "Epoch 42/100\n",
            "108/108 [==============================] - 28s 255ms/step - loss: 0.0085 - mae: 0.1019 - val_loss: 0.0146 - val_mae: 0.1631\n",
            "Epoch 43/100\n",
            "108/108 [==============================] - 28s 254ms/step - loss: 0.0081 - mae: 0.0994 - val_loss: 0.0139 - val_mae: 0.1593\n",
            "Epoch 44/100\n",
            "108/108 [==============================] - 27s 250ms/step - loss: 0.0079 - mae: 0.0970 - val_loss: 0.0133 - val_mae: 0.1554\n",
            "Epoch 45/100\n",
            "108/108 [==============================] - 27s 248ms/step - loss: 0.0076 - mae: 0.0948 - val_loss: 0.0126 - val_mae: 0.1513\n",
            "Epoch 46/100\n",
            "108/108 [==============================] - 27s 250ms/step - loss: 0.0076 - mae: 0.0932 - val_loss: 0.0120 - val_mae: 0.1475\n",
            "Epoch 47/100\n",
            "108/108 [==============================] - 28s 254ms/step - loss: 0.0071 - mae: 0.0901 - val_loss: 0.0114 - val_mae: 0.1436\n",
            "Epoch 48/100\n",
            "108/108 [==============================] - 28s 253ms/step - loss: 0.0069 - mae: 0.0877 - val_loss: 0.0108 - val_mae: 0.1390\n",
            "Epoch 49/100\n",
            "108/108 [==============================] - 27s 249ms/step - loss: 0.0068 - mae: 0.0864 - val_loss: 0.0102 - val_mae: 0.1348\n",
            "Epoch 50/100\n",
            "108/108 [==============================] - 27s 252ms/step - loss: 0.0064 - mae: 0.0831 - val_loss: 0.0096 - val_mae: 0.1304\n",
            "Epoch 51/100\n",
            "108/108 [==============================] - 28s 254ms/step - loss: 0.0060 - mae: 0.0804 - val_loss: 0.0091 - val_mae: 0.1267\n",
            "Epoch 52/100\n",
            "108/108 [==============================] - 29s 269ms/step - loss: 0.0056 - mae: 0.0773 - val_loss: 0.0085 - val_mae: 0.1222\n",
            "Epoch 53/100\n",
            "108/108 [==============================] - 28s 257ms/step - loss: 0.0057 - mae: 0.0759 - val_loss: 0.0079 - val_mae: 0.1177\n",
            "Epoch 54/100\n",
            "108/108 [==============================] - 28s 258ms/step - loss: 0.0055 - mae: 0.0731 - val_loss: 0.0074 - val_mae: 0.1136\n",
            "Epoch 55/100\n",
            "108/108 [==============================] - 28s 257ms/step - loss: 0.0051 - mae: 0.0702 - val_loss: 0.0069 - val_mae: 0.1094\n",
            "Epoch 56/100\n",
            "108/108 [==============================] - 29s 270ms/step - loss: 0.0049 - mae: 0.0676 - val_loss: 0.0065 - val_mae: 0.1052\n",
            "Epoch 57/100\n",
            "108/108 [==============================] - 28s 258ms/step - loss: 0.0049 - mae: 0.0667 - val_loss: 0.0060 - val_mae: 0.1012\n",
            "Epoch 58/100\n",
            "108/108 [==============================] - ETA: 0s - loss: 0.0049 - mae: 0.0649\\MAE dari model < 10% skala data\n",
            "108/108 [==============================] - 28s 260ms/step - loss: 0.0049 - mae: 0.0649 - val_loss: 0.0056 - val_mae: 0.0973\n"
          ]
        }
      ]
    },
    {
      "cell_type": "code",
      "source": [
        "%matplotlib inline\n",
        "\n",
        "import matplotlib.image as mpimg\n",
        "import matplotlib.pyplot as plt\n",
        "\n",
        "plt.plot(history.history['mae'])\n",
        "plt.plot(history.history['val_mae'])\n",
        "plt.title('Model Accuracy')\n",
        "plt.xlabel('epoch')\n",
        "plt.ylabel('Mae')\n",
        "plt.legend(['Training', 'Validation'], loc = 'best')\n",
        "plt.show()"
      ],
      "metadata": {
        "colab": {
          "base_uri": "https://localhost:8080/",
          "height": 295
        },
        "id": "tNk2q1EZHmZl",
        "outputId": "a3df06b5-6cc2-4e31-d50d-7b223af31661"
      },
      "execution_count": null,
      "outputs": [
        {
          "output_type": "display_data",
          "data": {
            "text/plain": [
              "<Figure size 432x288 with 1 Axes>"
            ],
            "image/png": "[encoded data removed]"
          },
          "metadata": {
            "needs_background": "light"
          }
        }
      ]
    },
    {
      "cell_type": "code",
      "source": [
        "plt.plot(history.history['loss'])\n",
        "plt.plot(history.history['val_loss'])\n",
        "plt.title('Model Loss')\n",
        "plt.xlabel('epoch')\n",
        "plt.ylabel('loss')\n",
        "plt.legend(['Training', 'Validation'], loc = 'best')\n",
        "plt.show()"
      ],
      "metadata": {
        "colab": {
          "base_uri": "https://localhost:8080/",
          "height": 295
        },
        "id": "W7PT8DAkH1RZ",
        "outputId": "9d8ec861-064b-4a06-a3f4-27dbee86cff1"
      },
      "execution_count": null,
      "outputs": [
        {
          "output_type": "display_data",
          "data": {
            "text/plain": [
              "<Figure size 432x288 with 1 Axes>"
            ],
            "image/png": "[encoded data removed]"
          },
          "metadata": {
            "needs_background": "light"
          }
        }
      ]
    }
  ]
}